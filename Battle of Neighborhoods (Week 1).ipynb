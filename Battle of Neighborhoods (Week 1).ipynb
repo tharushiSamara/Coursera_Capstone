{
 "cells": [
  {
   "cell_type": "markdown",
   "metadata": {},
   "source": [
    "# Part 1 (Business Problem):"
   ]
  },
  {
   "cell_type": "markdown",
   "metadata": {},
   "source": [
    "   Organic food, vagetables have a high interest among people at present. Because of the cultivation practices farmers are using many pestisides and veedisides.\n",
    " \n",
    " Selling organic vegetable, people will tend to buy at any cost considering the long as well as short term benefits for their health, that they will gain by consuming organic food. \n",
    " \n",
    " In Sri Lanka the number of Cacerous patient are getting higher. Not getting healthy foods is one the main problems to cause cancers.\n",
    " Organic vagetable and food may be coslty. Need to find best restaurants and suppermarkets in Colombo which can be sell organic vagetables foods and what are the most popular restaurants and supermarkets in Colombo.\n",
    " \n",
    " The problem will be solved using the Foursquare API, looking at the usercount and tipcount. This problem will help everyone that wants to find restaurants and  in Rio de Janeiro and wants to know if it is a viable option where they intend on opening."
   ]
  }
 ],
 "metadata": {
  "kernelspec": {
   "display_name": "Python 3",
   "language": "python",
   "name": "python3"
  },
  "language_info": {
   "codemirror_mode": {
    "name": "ipython",
    "version": 3
   },
   "file_extension": ".py",
   "mimetype": "text/x-python",
   "name": "python",
   "nbconvert_exporter": "python",
   "pygments_lexer": "ipython3",
   "version": "3.7.4"
  }
 },
 "nbformat": 4,
 "nbformat_minor": 2
}
